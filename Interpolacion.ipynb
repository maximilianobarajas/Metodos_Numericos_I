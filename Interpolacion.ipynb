{
  "nbformat": 4,
  "nbformat_minor": 0,
  "metadata": {
    "colab": {
      "provenance": []
    },
    "kernelspec": {
      "name": "python3",
      "display_name": "Python 3"
    },
    "language_info": {
      "name": "python"
    }
  },
  "cells": [
    {
      "cell_type": "markdown",
      "source": [
        "Bibliotecas utilizadas en el código"
      ],
      "metadata": {
        "id": "IDxUH8KaHLLg"
      }
    },
    {
      "cell_type": "code",
      "source": [
        "from typing import Callable\n",
        "import numpy as np\n",
        "import matplotlib.pyplot as plt\n",
        "import sympy as sp\n",
        "import pandas as pd"
      ],
      "metadata": {
        "id": "cmC9NElRG99i"
      },
      "execution_count": null,
      "outputs": []
    },
    {
      "cell_type": "markdown",
      "source": [
        "Clase general de datos"
      ],
      "metadata": {
        "id": "QYMbIhUIGxMS"
      }
    },
    {
      "cell_type": "code",
      "source": [
        "class datos:\n",
        "    def __init__(self, x, y):\n",
        "        self.x = x\n",
        "        self.y = y"
      ],
      "metadata": {
        "id": "LCBAVzhWGkjy"
      },
      "execution_count": null,
      "outputs": []
    },
    {
      "cell_type": "markdown",
      "source": [
        "Función para graficar"
      ],
      "metadata": {
        "id": "kLtDRaFOG2l5"
      }
    },
    {
      "cell_type": "code",
      "source": [
        "def graficar(interpolacion: Callable, intervalo: np.array,real: Callable=None ):\n",
        "    if(real!=None):\n",
        "       y_real=real(intervalo)\n",
        "       plt.plot(intervalo,y_real)\n",
        "    y_interpolable=interpolacion(intervalo)\n",
        "    plt.plot(intervalo,y_interpolable)\n",
        "    plt.grid(True)"
      ],
      "metadata": {
        "id": "-eBUd7EtG8h6"
      },
      "execution_count": null,
      "outputs": []
    },
    {
      "cell_type": "markdown",
      "source": [
        "Interpolación de Lagrange"
      ],
      "metadata": {
        "id": "vYpuVI_MHRma"
      }
    },
    {
      "cell_type": "code",
      "source": [
        "def Lagrange(f: list, p, n: int ) -> float:\n",
        "    # Inicializamos el resultado\n",
        "    polinomio_resultante = 0.0\n",
        "    for i in range(n):\n",
        "        #calculamos el polinomio\n",
        "        term = f[i].y\n",
        "        for j in range(n):\n",
        "            if j != i:\n",
        "                term = term * (p - f[j].x) / (f[i].x - f[j].x)\n",
        "\n",
        "        #Agregamos el resultado\n",
        "        polinomio_resultante += term\n",
        "    return polinomio_resultante"
      ],
      "metadata": {
        "id": "wM1JCQouHXab"
      },
      "execution_count": null,
      "outputs": []
    },
    {
      "cell_type": "code",
      "source": [
        "#x 1.0 1.3 1.6 1.9 2.2\n",
        "#f (x) 0.7651977 0.6200860 0.4554022 0.2818186 0.1103623\n",
        "x=[1.0 ,1.3 ,1.6 ,1.9, 2.2]\n",
        "y=[0.7651977, 0.6200860, 0.4554022, 0.2818186, 0.1103623]\n",
        "f=[datos(x[i],y[i]) for i in range(len(x))]\n",
        "s=sp.symbols('x')\n",
        "interpolacion_lagrange=sp.expand(Lagrange(f[0:3],s,len(f[0:3])))\n",
        "interpolacion_lagrange"
      ],
      "metadata": {
        "colab": {
          "base_uri": "https://localhost:8080/",
          "height": 39
        },
        "id": "me26NkDhHusr",
        "outputId": "8e8522ce-d147-4927-b45c-1103f34db603"
      },
      "execution_count": null,
      "outputs": [
        {
          "output_type": "execute_result",
          "data": {
            "text/plain": [
              "-0.10873388888889*x**2 - 0.23361772222222*x + 1.10754931111111"
            ],
            "text/latex": "$\\displaystyle - 0.10873388888889 x^{2} - 0.23361772222222 x + 1.10754931111111$"
          },
          "metadata": {},
          "execution_count": 28
        }
      ]
    },
    {
      "cell_type": "code",
      "source": [
        "graficar(sp.lambdify(s,interpolacion_lagrange),np.linspace(1,2.2))"
      ],
      "metadata": {
        "colab": {
          "base_uri": "https://localhost:8080/",
          "height": 435
        },
        "id": "PagtTT67JRwf",
        "outputId": "1917170e-6448-4f49-a98e-1e934ed6302f"
      },
      "execution_count": null,
      "outputs": [
        {
          "output_type": "display_data",
          "data": {
            "text/plain": [
              "<Figure size 640x480 with 1 Axes>"
            ],
            "image/png": "[encoded data removed]"
          },
          "metadata": {}
        }
      ]
    },
    {
      "cell_type": "markdown",
      "source": [
        "Interpolación y Tabulación de Neville"
      ],
      "metadata": {
        "id": "4BnI1hMtHYkR"
      }
    },
    {
      "cell_type": "code",
      "source": [
        "def Neville(f: list, s, pasa: int, grado: int):\n",
        "    #Base de la recursion\n",
        "    if(grado==0):\n",
        "        return f[pasa].y\n",
        "    else:\n",
        "        return (\n",
        "            (s-f[pasa-grado].x)*Neville(f,s,pasa,grado-1)-(s-f[pasa].x)*Neville(f,s,pasa-1,grado-1))/(f[pasa].x - f[pasa-grado].x)\n",
        "def tabular_neville(f: list, valor: float,s):\n",
        "    A=np.zeros((len(f),len(f)))\n",
        "    for i in range(len(f)):\n",
        "        for j in range(len(f)):\n",
        "            if(j<i):\n",
        "                A[j][i]=None\n",
        "            else:\n",
        "                A[j][i]=sp.lambdify(s,Neville(f,s,j,i))(valor)\n",
        "    return pd.DataFrame(A, columns = [ str(i) for i in range(len(f))])"
      ],
      "metadata": {
        "id": "cRpv_bL1HfQR"
      },
      "execution_count": null,
      "outputs": []
    },
    {
      "cell_type": "code",
      "source": [
        "x=[1.0 ,2 ,3 ,4, 6]\n",
        "y=[np.exp(xi) for xi in x]\n",
        "f=[datos(x[i],y[i]) for i in range(len(x))]\n",
        "s=sp.symbols('x')\n",
        "interpolacion_neville=sp.expand(Neville(f,s,4,3))\n",
        "interpolacion_neville"
      ],
      "metadata": {
        "colab": {
          "base_uri": "https://localhost:8080/",
          "height": 39
        },
        "id": "7P6v4qH7Kog2",
        "outputId": "2071a37c-0550-4969-fbd6-6fc8824d7f90"
      },
      "execution_count": null,
      "outputs": [
        {
          "output_type": "execute_result",
          "data": {
            "text/plain": [
              "8.93154251594079*x**3 - 69.4758165006174*x**2 + 190.376255524469*x - 166.912529075064"
            ],
            "text/latex": "$\\displaystyle 8.93154251594079 x^{3} - 69.4758165006174 x^{2} + 190.376255524469 x - 166.912529075064$"
          },
          "metadata": {},
          "execution_count": 37
        }
      ]
    },
    {
      "cell_type": "code",
      "source": [
        "tabular_neville(f,2.5,s)"
      ],
      "metadata": {
        "colab": {
          "base_uri": "https://localhost:8080/",
          "height": 206
        },
        "id": "OjPGPmQrLzsE",
        "outputId": "12ed28a2-8860-4a83-8c1d-70eee41490e8"
      },
      "execution_count": null,
      "outputs": [
        {
          "output_type": "execute_result",
          "data": {
            "text/plain": [
              "            0           1          2          3         4\n",
              "0    2.718282         NaN        NaN        NaN       NaN\n",
              "1    7.389056    9.724443        NaN        NaN       NaN\n",
              "2   20.085537   13.737297  12.734083        NaN       NaN\n",
              "3   54.598150    2.829230  11.010280  11.872182       NaN\n",
              "4  403.428793 -207.024833  37.804908  14.359608  12.61841"
            ],
            "text/html": [
              "\n",
              "  <div id=\"df-090279c5-f531-45a5-a2a3-b54cfb598c78\">\n",
              "    <div class=\"colab-df-container\">\n",
              "      <div>\n",
              "<style scoped>\n",
              "    .dataframe tbody tr th:only-of-type {\n",
              "        vertical-align: middle;\n",
              "    }\n",
              "\n",
              "    .dataframe tbody tr th {\n",
              "        vertical-align: top;\n",
              "    }\n",
              "\n",
              "    .dataframe thead th {\n",
              "        text-align: right;\n",
              "    }\n",
              "</style>\n",
              "<table border=\"1\" class=\"dataframe\">\n",
              "  <thead>\n",
              "    <tr style=\"text-align: right;\">\n",
              "      <th></th>\n",
              "      <th>0</th>\n",
              "      <th>1</th>\n",
              "      <th>2</th>\n",
              "      <th>3</th>\n",
              "      <th>4</th>\n",
              "    </tr>\n",
              "  </thead>\n",
              "  <tbody>\n",
              "    <tr>\n",
              "      <th>0</th>\n",
              "      <td>2.718282</td>\n",
              "      <td>NaN</td>\n",
              "      <td>NaN</td>\n",
              "      <td>NaN</td>\n",
              "      <td>NaN</td>\n",
              "    </tr>\n",
              "    <tr>\n",
              "      <th>1</th>\n",
              "      <td>7.389056</td>\n",
              "      <td>9.724443</td>\n",
              "      <td>NaN</td>\n",
              "      <td>NaN</td>\n",
              "      <td>NaN</td>\n",
              "    </tr>\n",
              "    <tr>\n",
              "      <th>2</th>\n",
              "      <td>20.085537</td>\n",
              "      <td>13.737297</td>\n",
              "      <td>12.734083</td>\n",
              "      <td>NaN</td>\n",
              "      <td>NaN</td>\n",
              "    </tr>\n",
              "    <tr>\n",
              "      <th>3</th>\n",
              "      <td>54.598150</td>\n",
              "      <td>2.829230</td>\n",
              "      <td>11.010280</td>\n",
              "      <td>11.872182</td>\n",
              "      <td>NaN</td>\n",
              "    </tr>\n",
              "    <tr>\n",
              "      <th>4</th>\n",
              "      <td>403.428793</td>\n",
              "      <td>-207.024833</td>\n",
              "      <td>37.804908</td>\n",
              "      <td>14.359608</td>\n",
              "      <td>12.61841</td>\n",
              "    </tr>\n",
              "  </tbody>\n",
              "</table>\n",
              "</div>\n",
              "      <button class=\"colab-df-convert\" onclick=\"convertToInteractive('df-090279c5-f531-45a5-a2a3-b54cfb598c78')\"\n",
              "              title=\"Convert this dataframe to an interactive table.\"\n",
              "              style=\"display:none;\">\n",
              "        \n",
              "  <svg xmlns=\"http://www.w3.org/2000/svg\" height=\"24px\"viewBox=\"0 0 24 24\"\n",
              "       width=\"24px\">\n",
              "    <path d=\"M0 0h24v24H0V0z\" fill=\"none\"/>\n",
              "    <path d=\"M18.56 5.44l.94 2.06.94-2.06 2.06-.94-2.06-.94-.94-2.06-.94 2.06-2.06.94zm-11 1L8.5 8.5l.94-2.06 2.06-.94-2.06-.94L8.5 2.5l-.94 2.06-2.06.94zm10 10l.94 2.06.94-2.06 2.06-.94-2.06-.94-.94-2.06-.94 2.06-2.06.94z\"/><path d=\"M17.41 7.96l-1.37-1.37c-.4-.4-.92-.59-1.43-.59-.52 0-1.04.2-1.43.59L10.3 9.45l-7.72 7.72c-.78.78-.78 2.05 0 2.83L4 21.41c.39.39.9.59 1.41.59.51 0 1.02-.2 1.41-.59l7.78-7.78 2.81-2.81c.8-.78.8-2.07 0-2.86zM5.41 20L4 18.59l7.72-7.72 1.47 1.35L5.41 20z\"/>\n",
              "  </svg>\n",
              "      </button>\n",
              "      \n",
              "  <style>\n",
              "    .colab-df-container {\n",
              "      display:flex;\n",
              "      flex-wrap:wrap;\n",
              "      gap: 12px;\n",
              "    }\n",
              "\n",
              "    .colab-df-convert {\n",
              "      background-color: #E8F0FE;\n",
              "      border: none;\n",
              "      border-radius: 50%;\n",
              "      cursor: pointer;\n",
              "      display: none;\n",
              "      fill: #1967D2;\n",
              "      height: 32px;\n",
              "      padding: 0 0 0 0;\n",
              "      width: 32px;\n",
              "    }\n",
              "\n",
              "    .colab-df-convert:hover {\n",
              "      background-color: #E2EBFA;\n",
              "      box-shadow: 0px 1px 2px rgba(60, 64, 67, 0.3), 0px 1px 3px 1px rgba(60, 64, 67, 0.15);\n",
              "      fill: #174EA6;\n",
              "    }\n",
              "\n",
              "    [theme=dark] .colab-df-convert {\n",
              "      background-color: #3B4455;\n",
              "      fill: #D2E3FC;\n",
              "    }\n",
              "\n",
              "    [theme=dark] .colab-df-convert:hover {\n",
              "      background-color: #434B5C;\n",
              "      box-shadow: 0px 1px 3px 1px rgba(0, 0, 0, 0.15);\n",
              "      filter: drop-shadow(0px 1px 2px rgba(0, 0, 0, 0.3));\n",
              "      fill: #FFFFFF;\n",
              "    }\n",
              "  </style>\n",
              "\n",
              "      <script>\n",
              "        const buttonEl =\n",
              "          document.querySelector('#df-090279c5-f531-45a5-a2a3-b54cfb598c78 button.colab-df-convert');\n",
              "        buttonEl.style.display =\n",
              "          google.colab.kernel.accessAllowed ? 'block' : 'none';\n",
              "\n",
              "        async function convertToInteractive(key) {\n",
              "          const element = document.querySelector('#df-090279c5-f531-45a5-a2a3-b54cfb598c78');\n",
              "          const dataTable =\n",
              "            await google.colab.kernel.invokeFunction('convertToInteractive',\n",
              "                                                     [key], {});\n",
              "          if (!dataTable) return;\n",
              "\n",
              "          const docLinkHtml = 'Like what you see? Visit the ' +\n",
              "            '<a target=\"_blank\" href=https://colab.research.google.com/notebooks/data_table.ipynb>data table notebook</a>'\n",
              "            + ' to learn more about interactive tables.';\n",
              "          element.innerHTML = '';\n",
              "          dataTable['output_type'] = 'display_data';\n",
              "          await google.colab.output.renderOutput(dataTable, element);\n",
              "          const docLink = document.createElement('div');\n",
              "          docLink.innerHTML = docLinkHtml;\n",
              "          element.appendChild(docLink);\n",
              "        }\n",
              "      </script>\n",
              "    </div>\n",
              "  </div>\n",
              "  "
            ]
          },
          "metadata": {},
          "execution_count": 39
        }
      ]
    },
    {
      "cell_type": "code",
      "source": [
        "graficar(sp.lambdify(s,interpolacion_neville),np.linspace(1,6),np.exp)"
      ],
      "metadata": {
        "colab": {
          "base_uri": "https://localhost:8080/",
          "height": 430
        },
        "id": "MbyaNaKUO9ig",
        "outputId": "37fe4265-9b58-43a6-98dc-e0ac94eac3e9"
      },
      "execution_count": null,
      "outputs": [
        {
          "output_type": "display_data",
          "data": {
            "text/plain": [
              "<Figure size 640x480 with 1 Axes>"
            ],
            "image/png": "[encoded data removed]"
          },
          "metadata": {}
        }
      ]
    },
    {
      "cell_type": "markdown",
      "source": [
        "Interpolación de Newton por diferencias divididas"
      ],
      "metadata": {
        "id": "FNYrBfNZHi3J"
      }
    },
    {
      "cell_type": "code",
      "source": [
        "def calcular_tabla_diferencias_divididas(f):\n",
        "    xj=[p.x for p in f]\n",
        "    yj=[p.y for p in f]\n",
        "    n = len(xj)\n",
        "    tabla = np.zeros((n, n))\n",
        "    for i in range(n):\n",
        "        tabla[i][0] = yj[i]\n",
        "    for j in range(1, n):\n",
        "        for i in range(j, n):\n",
        "            tabla[i][j] = (tabla[i][j-1] - tabla[i-1][j-1]) / (xj[i] - xj[i-j])\n",
        "    return tabla\n",
        "def interpolar_newton_progresivo(f, Punto):\n",
        "    xj=[p.x for p in f]\n",
        "    Matriz_diferencias=calcular_tabla_diferencias_divididas(f)\n",
        "    n = len(xj)\n",
        "    Progresivo = Matriz_diferencias[0][0]\n",
        "    Producto = 1\n",
        "    for i in range(1, n):\n",
        "        for j in range(i):\n",
        "            Producto *= (Punto - xj[j])\n",
        "        Progresivo += Matriz_diferencias[i][i] * Producto\n",
        "        Producto = 1\n",
        "    return Progresivo\n",
        "def interpolar_newton_regresivo(f, Punto):\n",
        "    xj=[p.x for p in f]\n",
        "    Matriz_diferencias=calcular_tabla_diferencias_divididas(f)\n",
        "    n = len(xj)\n",
        "    Regresivo = Matriz_diferencias[n-1][0]\n",
        "    Producto = 1\n",
        "    for i in range(n-2, -1, -1):\n",
        "        for j in range(n-1, i, -1):\n",
        "            Producto *= (Punto - xj[j])\n",
        "        Regresivo += Matriz_diferencias[n-1][n-1-i] * Producto\n",
        "        Producto = 1\n",
        "    return Regresivo\n",
        "def mostrar_tabla_newton(f):\n",
        "    tabla =calcular_tabla_diferencias_divididas(f)\n",
        "    return pd.DataFrame(tabla)"
      ],
      "metadata": {
        "id": "4BWZdHpMHp7o"
      },
      "execution_count": null,
      "outputs": []
    },
    {
      "cell_type": "code",
      "source": [
        "#x 1.0 1.3 1.6 1.9 2.2\n",
        "#f (x) 0.7651977 0.6200860 0.4554022 0.2818186 0.1103623\n",
        "x=[1.0, 1.3, 1.6, 1.9, 2.2]\n",
        "y=[0.7651977, 0.6200860, 0.4554022, 0.2818186, 0.1103623]\n",
        "f=[datos(x[i],y[i]) for i in range(len(x))]\n",
        "mostrar_tabla_newton(f)"
      ],
      "metadata": {
        "colab": {
          "base_uri": "https://localhost:8080/",
          "height": 206
        },
        "id": "r4DcSvTTMmlS",
        "outputId": "69470804-dbe4-417a-aad2-be59c4bc4441"
      },
      "execution_count": null,
      "outputs": [
        {
          "output_type": "execute_result",
          "data": {
            "text/plain": [
              "          0         1         2         3         4\n",
              "0  0.765198  0.000000  0.000000  0.000000  0.000000\n",
              "1  0.620086 -0.483706  0.000000  0.000000  0.000000\n",
              "2  0.455402 -0.548946 -0.108734  0.000000  0.000000\n",
              "3  0.281819 -0.578612 -0.049443  0.065878  0.000000\n",
              "4  0.110362 -0.571521  0.011818  0.068069  0.001825"
            ],
            "text/html": [
              "\n",
              "  <div id=\"df-cda1df93-9cae-4ac2-96fa-87f4d0e2358b\">\n",
              "    <div class=\"colab-df-container\">\n",
              "      <div>\n",
              "<style scoped>\n",
              "    .dataframe tbody tr th:only-of-type {\n",
              "        vertical-align: middle;\n",
              "    }\n",
              "\n",
              "    .dataframe tbody tr th {\n",
              "        vertical-align: top;\n",
              "    }\n",
              "\n",
              "    .dataframe thead th {\n",
              "        text-align: right;\n",
              "    }\n",
              "</style>\n",
              "<table border=\"1\" class=\"dataframe\">\n",
              "  <thead>\n",
              "    <tr style=\"text-align: right;\">\n",
              "      <th></th>\n",
              "      <th>0</th>\n",
              "      <th>1</th>\n",
              "      <th>2</th>\n",
              "      <th>3</th>\n",
              "      <th>4</th>\n",
              "    </tr>\n",
              "  </thead>\n",
              "  <tbody>\n",
              "    <tr>\n",
              "      <th>0</th>\n",
              "      <td>0.765198</td>\n",
              "      <td>0.000000</td>\n",
              "      <td>0.000000</td>\n",
              "      <td>0.000000</td>\n",
              "      <td>0.000000</td>\n",
              "    </tr>\n",
              "    <tr>\n",
              "      <th>1</th>\n",
              "      <td>0.620086</td>\n",
              "      <td>-0.483706</td>\n",
              "      <td>0.000000</td>\n",
              "      <td>0.000000</td>\n",
              "      <td>0.000000</td>\n",
              "    </tr>\n",
              "    <tr>\n",
              "      <th>2</th>\n",
              "      <td>0.455402</td>\n",
              "      <td>-0.548946</td>\n",
              "      <td>-0.108734</td>\n",
              "      <td>0.000000</td>\n",
              "      <td>0.000000</td>\n",
              "    </tr>\n",
              "    <tr>\n",
              "      <th>3</th>\n",
              "      <td>0.281819</td>\n",
              "      <td>-0.578612</td>\n",
              "      <td>-0.049443</td>\n",
              "      <td>0.065878</td>\n",
              "      <td>0.000000</td>\n",
              "    </tr>\n",
              "    <tr>\n",
              "      <th>4</th>\n",
              "      <td>0.110362</td>\n",
              "      <td>-0.571521</td>\n",
              "      <td>0.011818</td>\n",
              "      <td>0.068069</td>\n",
              "      <td>0.001825</td>\n",
              "    </tr>\n",
              "  </tbody>\n",
              "</table>\n",
              "</div>\n",
              "      <button class=\"colab-df-convert\" onclick=\"convertToInteractive('df-cda1df93-9cae-4ac2-96fa-87f4d0e2358b')\"\n",
              "              title=\"Convert this dataframe to an interactive table.\"\n",
              "              style=\"display:none;\">\n",
              "        \n",
              "  <svg xmlns=\"http://www.w3.org/2000/svg\" height=\"24px\"viewBox=\"0 0 24 24\"\n",
              "       width=\"24px\">\n",
              "    <path d=\"M0 0h24v24H0V0z\" fill=\"none\"/>\n",
              "    <path d=\"M18.56 5.44l.94 2.06.94-2.06 2.06-.94-2.06-.94-.94-2.06-.94 2.06-2.06.94zm-11 1L8.5 8.5l.94-2.06 2.06-.94-2.06-.94L8.5 2.5l-.94 2.06-2.06.94zm10 10l.94 2.06.94-2.06 2.06-.94-2.06-.94-.94-2.06-.94 2.06-2.06.94z\"/><path d=\"M17.41 7.96l-1.37-1.37c-.4-.4-.92-.59-1.43-.59-.52 0-1.04.2-1.43.59L10.3 9.45l-7.72 7.72c-.78.78-.78 2.05 0 2.83L4 21.41c.39.39.9.59 1.41.59.51 0 1.02-.2 1.41-.59l7.78-7.78 2.81-2.81c.8-.78.8-2.07 0-2.86zM5.41 20L4 18.59l7.72-7.72 1.47 1.35L5.41 20z\"/>\n",
              "  </svg>\n",
              "      </button>\n",
              "      \n",
              "  <style>\n",
              "    .colab-df-container {\n",
              "      display:flex;\n",
              "      flex-wrap:wrap;\n",
              "      gap: 12px;\n",
              "    }\n",
              "\n",
              "    .colab-df-convert {\n",
              "      background-color: #E8F0FE;\n",
              "      border: none;\n",
              "      border-radius: 50%;\n",
              "      cursor: pointer;\n",
              "      display: none;\n",
              "      fill: #1967D2;\n",
              "      height: 32px;\n",
              "      padding: 0 0 0 0;\n",
              "      width: 32px;\n",
              "    }\n",
              "\n",
              "    .colab-df-convert:hover {\n",
              "      background-color: #E2EBFA;\n",
              "      box-shadow: 0px 1px 2px rgba(60, 64, 67, 0.3), 0px 1px 3px 1px rgba(60, 64, 67, 0.15);\n",
              "      fill: #174EA6;\n",
              "    }\n",
              "\n",
              "    [theme=dark] .colab-df-convert {\n",
              "      background-color: #3B4455;\n",
              "      fill: #D2E3FC;\n",
              "    }\n",
              "\n",
              "    [theme=dark] .colab-df-convert:hover {\n",
              "      background-color: #434B5C;\n",
              "      box-shadow: 0px 1px 3px 1px rgba(0, 0, 0, 0.15);\n",
              "      filter: drop-shadow(0px 1px 2px rgba(0, 0, 0, 0.3));\n",
              "      fill: #FFFFFF;\n",
              "    }\n",
              "  </style>\n",
              "\n",
              "      <script>\n",
              "        const buttonEl =\n",
              "          document.querySelector('#df-cda1df93-9cae-4ac2-96fa-87f4d0e2358b button.colab-df-convert');\n",
              "        buttonEl.style.display =\n",
              "          google.colab.kernel.accessAllowed ? 'block' : 'none';\n",
              "\n",
              "        async function convertToInteractive(key) {\n",
              "          const element = document.querySelector('#df-cda1df93-9cae-4ac2-96fa-87f4d0e2358b');\n",
              "          const dataTable =\n",
              "            await google.colab.kernel.invokeFunction('convertToInteractive',\n",
              "                                                     [key], {});\n",
              "          if (!dataTable) return;\n",
              "\n",
              "          const docLinkHtml = 'Like what you see? Visit the ' +\n",
              "            '<a target=\"_blank\" href=https://colab.research.google.com/notebooks/data_table.ipynb>data table notebook</a>'\n",
              "            + ' to learn more about interactive tables.';\n",
              "          element.innerHTML = '';\n",
              "          dataTable['output_type'] = 'display_data';\n",
              "          await google.colab.output.renderOutput(dataTable, element);\n",
              "          const docLink = document.createElement('div');\n",
              "          docLink.innerHTML = docLinkHtml;\n",
              "          element.appendChild(docLink);\n",
              "        }\n",
              "      </script>\n",
              "    </div>\n",
              "  </div>\n",
              "  "
            ]
          },
          "metadata": {},
          "execution_count": 50
        }
      ]
    },
    {
      "cell_type": "code",
      "source": [
        "s=sp.symbols('x')\n",
        "Newton_progresivo=interpolar_newton_progresivo(f,s)\n",
        "sp.lambdify(s,Newton_progresivo)(1.1)"
      ],
      "metadata": {
        "colab": {
          "base_uri": "https://localhost:8080/"
        },
        "id": "Ivyc8XH4Ot9R",
        "outputId": "ea03aac7-8e9b-4e5c-bcd2-606b0f05aa17"
      },
      "execution_count": null,
      "outputs": [
        {
          "output_type": "execute_result",
          "data": {
            "text/plain": [
              "0.7196459942386871"
            ]
          },
          "metadata": {},
          "execution_count": 55
        }
      ]
    },
    {
      "cell_type": "code",
      "source": [
        "s=sp.symbols('x')\n",
        "Newton_regresivo=interpolar_newton_regresivo(f,s)\n",
        "sp.lambdify(s,Newton_regresivo)(2)"
      ],
      "metadata": {
        "colab": {
          "base_uri": "https://localhost:8080/"
        },
        "id": "j8YMd3vFNfmS",
        "outputId": "8914d19c-95b6-43db-e5e2-d64bb24d5fa6"
      },
      "execution_count": null,
      "outputs": [
        {
          "output_type": "execute_result",
          "data": {
            "text/plain": [
              "0.22387536460905566"
            ]
          },
          "metadata": {},
          "execution_count": 54
        }
      ]
    },
    {
      "cell_type": "markdown",
      "source": [
        "Código Splines"
      ],
      "metadata": {
        "id": "Ca2cghylGm_T"
      }
    },
    {
      "cell_type": "code",
      "source": [
        "class SplineCubicoNatural:\n",
        "    def __init__(self, x: np.ndarray, y: np.ndarray):\n",
        "        self.x = x\n",
        "        self.y = y\n",
        "        self.n = len(x)\n",
        "        self.a, self.b, self.c, self.d = self.calcular_coeficientes()\n",
        "\n",
        "    def calcular_coeficientes(self) -> tuple[np.ndarray, np.ndarray, np.ndarray, np.ndarray]:\n",
        "        h = np.diff(self.x)\n",
        "        a_sobre_h = np.diff(self.y) / h\n",
        "\n",
        "        Matriz_Asociada_Al_Sistema = np.zeros((self.n, self.n))\n",
        "        Matriz_Asociada_Al_Sistema[0, 0] = 1\n",
        "        Matriz_Asociada_Al_Sistema[-1, -1] = 1\n",
        "\n",
        "        for i in range(1, self.n - 1):\n",
        "            Matriz_Asociada_Al_Sistema[i, i - 1] = h[i - 1]\n",
        "            Matriz_Asociada_Al_Sistema[i, i] = 2 * (h[i - 1] + h[i])\n",
        "            Matriz_Asociada_Al_Sistema[i, i + 1] = h[i]\n",
        "\n",
        "        Vector_B = np.zeros(self.n)\n",
        "        Vector_B[1:-1] = 3 * (a_sobre_h[1:] - a_sobre_h[:-1])\n",
        "\n",
        "        c = np.linalg.solve(Matriz_Asociada_Al_Sistema, Vector_B)\n",
        "        a = self.y[:-1]\n",
        "        b = a_sobre_h - h * (2 * c[:-1] + c[1:]) / 3\n",
        "        d = (c[1:] - c[:-1]) / (3 * h)\n",
        "\n",
        "        return a, b, c[:-1], d\n",
        "\n",
        "    def evaluar(self, xi: np.ndarray) -> np.ndarray:\n",
        "        k = np.searchsorted(self.x, xi.clip(self.x[0], self.x[-1])) - 1\n",
        "        x_xk = xi - self.x[k]\n",
        "        y_imagen = self.a[k] + self.b[k] * x_xk + self.c[k] * x_xk ** 2 + self.d[k] * x_xk ** 3\n",
        "        return y_imagen\n",
        "\n",
        "    def mostrar_polinomios(self) -> list[sp.Expr]:\n",
        "        splines = []\n",
        "        xs = sp.symbols('x')\n",
        "\n",
        "        for i in range(self.n - 1):\n",
        "            splines.append(sp.expand(self.a[i] + self.b[i] * (xs - self.x[i]) + self.c[i] * (xs - self.x[i])**2 + self.d[i] * (xs - self.x[i])**3))\n",
        "\n",
        "        return splines\n",
        "\n",
        "    def graficar_spline(self, a: float, b: float, n: int = 100, real: callable = None):\n",
        "        splines = []\n",
        "        colores = ['g', 'b', 'y']\n",
        "        coeficientes = self.calcular_coeficientes()\n",
        "\n",
        "        for i in range(self.n - 1):\n",
        "            xs = np.linspace(self.x[i], self.x[i + 1], num=100)\n",
        "            ys = coeficientes[0][i] + coeficientes[1][i] * (xs - self.x[i]) + coeficientes[2][i] * (xs - self.x[i]) ** 2 + coeficientes[3][i] * (xs - self.x[i]) ** 3\n",
        "            splines.append((xs, ys))\n",
        "\n",
        "        i = 0\n",
        "        for spline in splines:\n",
        "            plt.plot(spline[0], spline[1], colores[i % 3])\n",
        "            i += 1\n",
        "\n",
        "        plt.scatter(self.x, self.y, color='r', marker='*')\n",
        "\n",
        "        if real is not None:\n",
        "            xi = np.linspace(a, b, 100)\n",
        "            yreal = real(xi)\n",
        "            plt.plot(xi, yreal, label='Funcion real')\n",
        "\n",
        "        plt.xlabel('x')\n",
        "        plt.ylabel('y')\n",
        "        plt.title('Interpolacion por Spline Cubico natural')\n",
        "        plt.grid(True)\n",
        "        plt.show()\n",
        "\n",
        "\n",
        "class SplineCubicoFronteraFija:\n",
        "    def __init__(self, x: np.ndarray, y: np.ndarray, a: float, b: float):\n",
        "        self.x = x\n",
        "        self.y = y\n",
        "        self.n = len(x)\n",
        "        self.frontera_a = a\n",
        "        self.frontera_b = b\n",
        "        self.a, self.b, self.c, self.d = self.calcular_coeficientes()\n",
        "\n",
        "    def calcular_coeficientes(self) -> tuple[np.ndarray, np.ndarray, np.ndarray, np.ndarray]:\n",
        "        h = np.diff(self.x)\n",
        "        a_sobre_h = np.diff(self.y) / h\n",
        "\n",
        "        Matriz_Asociada_Al_Sistema = np.zeros((self.n, self.n))\n",
        "        Matriz_Asociada_Al_Sistema[0, 0] = (-2 / 3) * h[0]\n",
        "        Matriz_Asociada_Al_Sistema[0, 1] = -h[0] / 3\n",
        "        Matriz_Asociada_Al_Sistema[-1, 2] = (1 / 3) * h[2]\n",
        "        Matriz_Asociada_Al_Sistema[-1, 3] = (2 / 3) * h[2]\n",
        "\n",
        "        for i in range(1, self.n - 1):\n",
        "            Matriz_Asociada_Al_Sistema[i, i - 1] = h[i - 1]\n",
        "            Matriz_Asociada_Al_Sistema[i, i] = 2 * (h[i - 1] + h[i])\n",
        "            Matriz_Asociada_Al_Sistema[i, i + 1] = h[i]\n",
        "\n",
        "        Vector_B = np.zeros(self.n)\n",
        "        Vector_B[0] = self.frontera_a - ((self.y[1] - self.y[0]) / h[0])\n",
        "        Vector_B[1:-1] = 3 * (a_sobre_h[1:] - a_sobre_h[:-1])\n",
        "        Vector_B[-1] = self.frontera_b - ((self.y[self.n - 1] - self.y[self.n - 2]) / h[self.n - 2])\n",
        "\n",
        "        c = np.linalg.solve(Matriz_Asociada_Al_Sistema, Vector_B)\n",
        "        a = self.y[:-1]\n",
        "        b = a_sobre_h - h * (2 * c[:-1] + c[1:]) / 3\n",
        "        d = (c[1:] - c[:-1]) / (3 * h)\n",
        "\n",
        "        return a, b, c[:-1], d\n",
        "\n",
        "    def evaluar(self, xi: np.ndarray) -> np.ndarray:\n",
        "        k = np.searchsorted(self.x, xi.clip(self.x[0], self.x[-1])) - 1\n",
        "        x_xk = xi - self.x[k]\n",
        "        y_imagen = self.a[k] + self.b[k] * x_xk + self.c[k] * x_xk ** 2 + self.d[k] * x_xk ** 3\n",
        "        return y_imagen\n",
        "\n",
        "    def mostrar_polinomios(self) -> list[sp.Expr]:\n",
        "        splines = []\n",
        "        xs = sp.symbols('x')\n",
        "\n",
        "        for i in range(self.n - 1):\n",
        "            splines.append(sp.expand(self.a[i] + self.b[i] * (xs - self.x[i]) + self.c[i] * (xs - self.x[i])**2 + self.d[i] * (xs - self.x[i])**3))\n",
        "\n",
        "        return splines\n",
        "\n",
        "    def graficar_spline(self, a: float, b: float, n: int = 100, real: callable = None):\n",
        "        splines = []\n",
        "        colores = ['g', 'b', 'y']\n",
        "        coeficientes = self.calcular_coeficientes()\n",
        "\n",
        "        for i in range(self.n - 1):\n",
        "            xs = np.linspace(self.x[i], self.x[i + 1], num=100)\n",
        "            ys = coeficientes[0][i] + coeficientes[1][i] * (xs - self.x[i]) + coeficientes[2][i] * (xs - self.x[i]) ** 2 + coeficientes[3][i] * (xs - self.x[i]) ** 3\n",
        "            splines.append((xs, ys))\n",
        "\n",
        "        i = 0\n",
        "        for spline in splines:\n",
        "            plt.plot(spline[0], spline[1], colores[i % 3])\n",
        "            i += 1\n",
        "\n",
        "        plt.scatter(self.x, self.y, color='r', marker='*')\n",
        "\n",
        "        if real is not None:\n",
        "            xi = np.linspace(a, b, 100)\n",
        "            yreal = real(xi)\n",
        "            plt.plot(xi, yreal, label='Funcion real')\n",
        "\n",
        "        plt.xlabel('x')\n",
        "        plt.ylabel('y')\n",
        "        plt.title('Interpolacion por Spline Cubico frontera fija')\n",
        "        plt.grid(True)\n",
        "        plt.show()\n"
      ],
      "metadata": {
        "id": "9nyZJuGkF_I6"
      },
      "execution_count": null,
      "outputs": []
    },
    {
      "cell_type": "code",
      "source": [
        "x = np.array([0, 0.25, 0.4, 0.6])\n",
        "y = x*np.sin(4*x)\n",
        "spline1 = SplineCubicoNatural(x, y)\n",
        "spline1.graficar_spline(0,0.6,real=lambda x: x*np.sin(4*x))"
      ],
      "metadata": {
        "colab": {
          "base_uri": "https://localhost:8080/",
          "height": 472
        },
        "id": "EnpfYrq_GBCK",
        "outputId": "a02f0cee-4c6f-4060-a0f9-91c16537ccd8"
      },
      "execution_count": null,
      "outputs": [
        {
          "output_type": "display_data",
          "data": {
            "text/plain": [
              "<Figure size 640x480 with 1 Axes>"
            ],
            "image/png": "[encoded data removed]"
          },
          "metadata": {}
        }
      ]
    },
    {
      "cell_type": "code",
      "source": [
        "spline1.mostrar_polinomios()"
      ],
      "metadata": {
        "colab": {
          "base_uri": "https://localhost:8080/"
        },
        "id": "xcXkgQs4GNCM",
        "outputId": "fe3247a4-5f24-416e-df10-6c0d81d56e55"
      },
      "execution_count": null,
      "outputs": [
        {
          "output_type": "execute_result",
          "data": {
            "text/plain": [
              "[3.57581568036066*x**3 + 0.617982504785355*x,\n",
              " -19.0066329835275*x**3 + 16.9368364979161*x**2 - 3.61622661969367*x + 0.352850760373252,\n",
              " 9.78520513719478*x**3 - 17.6133692469506*x**2 + 10.203855678253*x - 1.48982687935297]"
            ]
          },
          "metadata": {},
          "execution_count": 60
        }
      ]
    },
    {
      "cell_type": "code",
      "source": [
        "x = np.array([0, 0.25, 0.4, 0.6])\n",
        "y = x*np.sin(4*x)\n",
        "y_prima= lambda x: np.sin(4*x) + 4*x*np.cos(4*x)\n",
        "spline2 = SplineCubicoFronteraFija(x, y,y_prima(x[0]),y_prima(x[-1]))\n",
        "spline2.graficar_spline(0,0.6,real=lambda x: x*np.sin(4*x))"
      ],
      "metadata": {
        "colab": {
          "base_uri": "https://localhost:8080/",
          "height": 472
        },
        "id": "a-gtBMBUGQJC",
        "outputId": "5a83c269-9774-4f6a-92e9-cd74415b769b"
      },
      "execution_count": null,
      "outputs": [
        {
          "output_type": "display_data",
          "data": {
            "text/plain": [
              "<Figure size 640x480 with 1 Axes>"
            ],
            "image/png": "[encoded data removed]"
          },
          "metadata": {}
        }
      ]
    },
    {
      "cell_type": "code",
      "source": [
        "spline2.mostrar_polinomios()"
      ],
      "metadata": {
        "colab": {
          "base_uri": "https://localhost:8080/"
        },
        "id": "7ABW7Y-HGWXi",
        "outputId": "a0b1d83d-c21a-4154-b0da-aa0d10cf9c6d"
      },
      "execution_count": null,
      "outputs": [
        {
          "output_type": "execute_result",
          "data": {
            "text/plain": [
              "[-5.13515716494795*x**3 + 4.64967323046857*x**2 - 1.11022302462516e-16*x,\n",
              " -9.71833260248896*x**3 + 8.08705480862433*x**2 - 0.859345394538939*x + 0.0716121162115782,\n",
              " -5.08169011807245*x**3 + 2.52308382732453*x**2 + 1.36624299798098*x - 0.225133002791078]"
            ]
          },
          "metadata": {},
          "execution_count": 8
        }
      ]
    },
    {
      "cell_type": "code",
      "source": [
        "x = np.array([0.1, 0.2 ,0.3, 0.4])\n",
        "y = np.array([-0.62049958 ,-0.28398668 ,0.00660095 ,0.24842440])\n",
        "spline3 = SplineCubicoFronteraFija(x, y,3.58502082,2.16529366)\n",
        "spline3.graficar_spline(0.1,0.4)"
      ],
      "metadata": {
        "colab": {
          "base_uri": "https://localhost:8080/",
          "height": 472
        },
        "id": "D6P8TsixGa9i",
        "outputId": "46ee6ae5-17f1-49f5-eddb-5f940a0929e6"
      },
      "execution_count": null,
      "outputs": [
        {
          "output_type": "display_data",
          "data": {
            "text/plain": [
              "<Figure size 640x480 with 1 Axes>"
            ],
            "image/png": "[encoded data removed]"
          },
          "metadata": {}
        }
      ]
    },
    {
      "cell_type": "code",
      "source": [
        "spline3.mostrar_polinomios()"
      ],
      "metadata": {
        "colab": {
          "base_uri": "https://localhost:8080/"
        },
        "id": "0MmPxVJ-Ge1C",
        "outputId": "fcff738d-72ff-4f75-f179-10bb13688568"
      },
      "execution_count": null,
      "outputs": [
        {
          "output_type": "execute_result",
          "data": {
            "text/plain": [
              "[-0.49077413333335*x**3 - 2.00260854666665*x**2 + 4.00026575333333*x - 1.00000929573333,\n",
              " -0.474583600000065*x**3 - 2.01232286666663*x**2 + 4.00220861733333*x - 1.00013882,\n",
              " -0.449801466666531*x**3 - 2.03462678666681*x**2 + 4.00889979333338*x - 1.0008079376]"
            ]
          },
          "metadata": {},
          "execution_count": 11
        }
      ]
    }
  ]
}